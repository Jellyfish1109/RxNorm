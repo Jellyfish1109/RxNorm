{
 "cells": [
  {
   "cell_type": "markdown",
   "metadata": {},
   "source": [
    "5\n"
   ]
  },
  {
   "cell_type": "code",
   "execution_count": 13,
   "metadata": {},
   "outputs": [],
   "source": [
    "import pandas as pd\n",
    "from pathlib import Path\n",
    "import requests\n",
    "import time "
   ]
  },
  {
   "cell_type": "code",
   "execution_count": 14,
   "metadata": {},
   "outputs": [],
   "source": [
    "API_KEY = \"df41212a-079d-4a5a-9c7e-5196b8ae2c24\""
   ]
  },
  {
   "cell_type": "code",
   "execution_count": 15,
   "metadata": {},
   "outputs": [],
   "source": [
    "med_path = Path(\"/Users/theadiselab/Desktop/Jun Hyuk Lee_files/Files/medication_summary.xlsx\")\n",
    "cls_path = Path(\"/Users/theadiselab/Desktop/Jun Hyuk Lee_files/Files/unique_atc_code.xlsx\")\n",
    "\n",
    "med_df = pd.read_excel(med_path, sheet_name = \"medication_summary\")\n",
    "cls_df = pd.read_excel(cls_path, sheet_name = \"unique_atc_code\")\n",
    "\n",
    "cat_map = cls_df.set_index(\"broad_atc_code\")[\"medication_category\"].to_dict()\n"
   ]
  },
  {
   "cell_type": "code",
   "execution_count": 16,
   "metadata": {},
   "outputs": [],
   "source": [
    "def fetch_detailed_atc_info(rxcui: int) -> list[str]:\n",
    "    url = \"https://rxnav.nlm.nih.gov/REST/rxclass/class/byRxcui.json\"\n",
    "    params = {\"rxcui\": rxcui, \"relaSource\": \"ATC\"}\n",
    "    if API_KEY: \n",
    "        params[\"apiKey\"] = API_KEY\n",
    "    \n",
    "    try: \n",
    "        resp = requests.get(url, params = params, timeout = 5)\n",
    "        resp.raise_for_status()\n",
    "        data = resp.json()\n",
    "        infos = data.get(\"rxclassDrugInfoList\", {}).get(\"rxclassDrugInfo\", [])\n",
    "        codes = []\n",
    "        for info in infos: \n",
    "            cid = info.get(\"rxclassMinConceptItem\", {}).get(\"classId\", \"\")\n",
    "            if cid:\n",
    "                codes.append(cid)\n",
    "        return codes\n",
    "    except: \n",
    "        return []\n",
    "    "
   ]
  },
  {
   "cell_type": "code",
   "execution_count": 17,
   "metadata": {},
   "outputs": [],
   "source": [
    "med_df[\"atc_code\"] = \"\"\n",
    "med_df[\"broad_atc_code\"] = \"\"\n",
    "med_df[\"medication_category\"] = \"\""
   ]
  },
  {
   "cell_type": "code",
   "execution_count": 20,
   "metadata": {},
   "outputs": [
    {
     "name": "stdout",
     "output_type": "stream",
     "text": [
      "Done!\n"
     ]
    }
   ],
   "source": [
    "for idx, row in med_df.iterrows():\n",
    "    mid = row[\"med_id\"]\n",
    "    try: \n",
    "        rxcui = int(mid)\n",
    "    except: \n",
    "        continue\n",
    "\n",
    "    codes = fetch_detailed_atc_info(rxcui)\n",
    "    if not codes: \n",
    "        continue \n",
    "\n",
    "    atc = codes[0]\n",
    "    broad = atc[:3]\n",
    "\n",
    "    category = cat_map.get(broad, \"\")\n",
    "\n",
    "    med_df.at[idx, \"broad_atc_code\"] = broad\n",
    "    med_df.at[idx, \"medication_category\"] = category\n",
    "    med_df.at[idx, \"atc_code\"] = atc\n",
    "\n",
    "    time.sleep(0.1)\n",
    "\n",
    "print(f\"Done!\")"
   ]
  },
  {
   "cell_type": "code",
   "execution_count": 21,
   "metadata": {},
   "outputs": [
    {
     "name": "stdout",
     "output_type": "stream",
     "text": [
      "Done!\n"
     ]
    }
   ],
   "source": [
    "out_path = Path(\"/Users/theadiselab/Desktop/Jun Hyuk Lee_files/Files/medication_summary_enriched.xlsx\")\n",
    "with pd.ExcelWriter(out_path, engine=\"xlsxwriter\") as writer:\n",
    "    med_df.to_excel(writer, index=False, sheet_name=\"medication_summary\")\n",
    "\n",
    "print(f\"Done!\")"
   ]
  }
 ],
 "metadata": {
  "kernelspec": {
   "display_name": "Python 3",
   "language": "python",
   "name": "python3"
  },
  "language_info": {
   "codemirror_mode": {
    "name": "ipython",
    "version": 3
   },
   "file_extension": ".py",
   "mimetype": "text/x-python",
   "name": "python",
   "nbconvert_exporter": "python",
   "pygments_lexer": "ipython3",
   "version": "3.13.3"
  }
 },
 "nbformat": 4,
 "nbformat_minor": 2
}
